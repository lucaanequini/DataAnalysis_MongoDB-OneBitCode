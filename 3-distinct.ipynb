{
 "cells": [
  {
   "cell_type": "code",
   "execution_count": 1,
   "metadata": {},
   "outputs": [],
   "source": [
    "from pymongo import MongoClient\n",
    "\n",
    "client = MongoClient()\n",
    "db = client['nobel']\n",
    "\n",
    "prizes = db['prizes']\n",
    "laureates = db['laureates']"
   ]
  },
  {
   "cell_type": "code",
   "execution_count": 5,
   "metadata": {},
   "outputs": [
    {
     "name": "stdout",
     "output_type": "stream",
     "text": [
      "['female', 'male', 'org']\n",
      "64\n",
      "901\n",
      "27\n"
     ]
    }
   ],
   "source": [
    "#lista o mapeamento de gêneros\n",
    "print(db.laureates.distinct('gender'))\n",
    "print(db.laureates.count_documents({'gender': 'female'}))\n",
    "print(db.laureates.count_documents({'gender': 'male'}))\n",
    "print(db.laureates.count_documents({'gender': 'org'}))"
   ]
  },
  {
   "cell_type": "code",
   "execution_count": 4,
   "metadata": {},
   "outputs": [
    {
     "name": "stdout",
     "output_type": "stream",
     "text": [
      "['chemistry', 'economics', 'literature', 'medicine', 'peace', 'physics']\n"
     ]
    }
   ],
   "source": [
    "#lista de mapeamento de categorias\n",
    "print(db.laureates.distinct('prizes.category'))"
   ]
  },
  {
   "cell_type": "code",
   "execution_count": 7,
   "metadata": {},
   "outputs": [
    {
     "name": "stdout",
     "output_type": "stream",
     "text": [
      "['chemistry', 'economics', 'medicine', 'physics']\n",
      "['chemistry', 'economics', 'medicine', 'physics']\n"
     ]
    }
   ],
   "source": [
    "#premios compartilhados\n",
    "print(db.laureates.distinct('prizes.category', {'prizes.share': '4'}))\n",
    "\n",
    "print(db.prizes.distinct('category', {'laureates.share': '4'}))"
   ]
  },
  {
   "cell_type": "code",
   "execution_count": 9,
   "metadata": {},
   "outputs": [
    {
     "name": "stdout",
     "output_type": "stream",
     "text": [
      "['chemistry', 'peace', 'physics']\n"
     ]
    }
   ],
   "source": [
    "#categorias de laureados que ganharam varios premios\n",
    "\n",
    "print(db.laureates.distinct('prizes.category', {'prizes.1': {'$exists': True}}))"
   ]
  }
 ],
 "metadata": {
  "kernelspec": {
   "display_name": "base",
   "language": "python",
   "name": "python3"
  },
  "language_info": {
   "codemirror_mode": {
    "name": "ipython",
    "version": 3
   },
   "file_extension": ".py",
   "mimetype": "text/x-python",
   "name": "python",
   "nbconvert_exporter": "python",
   "pygments_lexer": "ipython3",
   "version": "3.11.7"
  }
 },
 "nbformat": 4,
 "nbformat_minor": 2
}
