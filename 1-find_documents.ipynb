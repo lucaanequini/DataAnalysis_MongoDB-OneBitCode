{
 "cells": [
  {
   "cell_type": "code",
   "execution_count": 4,
   "metadata": {},
   "outputs": [
    {
     "name": "stdout",
     "output_type": "stream",
     "text": [
      "64\n",
      "901\n",
      "52\n",
      "1\n",
      "{'_id': ObjectId('66895eb6b4527799d4afa09f'), 'id': '6', 'firstname': 'Marie', 'surname': 'Curie', 'born': '1867-11-07', 'died': '1934-07-04', 'bornCountry': 'Russian Empire (now Poland)', 'bornCountryCode': 'PL', 'bornCity': 'Warsaw', 'diedCountry': 'France', 'diedCountryCode': 'FR', 'diedCity': 'Sallanches', 'gender': 'female', 'prizes': [{'year': '1903', 'category': 'physics', 'share': '4', 'motivation': '\"in recognition of the extraordinary services they have rendered by their joint researches on the radiation phenomena discovered by Professor Henri Becquerel\"', 'affiliations': [[]]}, {'year': '1911', 'category': 'chemistry', 'share': '1', 'motivation': '\"in recognition of her services to the advancement of chemistry by the discovery of the elements radium and polonium, by the isolation of radium and the study of the nature and compounds of this remarkable element\"', 'affiliations': [{'name': 'Sorbonne University', 'city': 'Paris', 'country': 'France'}]}]}\n"
     ]
    }
   ],
   "source": [
    "from pymongo import MongoClient\n",
    "\n",
    "client = MongoClient()\n",
    "db = client['nobel']\n",
    "\n",
    "prizes = db['prizes']\n",
    "laureates = db['laureates']\n",
    "\n",
    "#contagem de documentos por gênero\n",
    "print(db.laureates.count_documents({'gender': 'female'}))\n",
    "print(db.laureates.count_documents({'gender': 'male'}))\n",
    "\n",
    "#contagem de documentos por país da morte\n",
    "print(db.laureates.count_documents({'diedCountry': 'France'}))\n",
    "\n",
    "#filtro composto\n",
    "filter_doc = {\n",
    "    'diedCountry': 'France',\n",
    "    'gender': 'female',\n",
    "    'bornCity': 'Warsaw'\n",
    "}\n",
    "\n",
    "print(db.laureates.count_documents(filter_doc))\n",
    "print(db.laureates.find_one(filter_doc))"
   ]
  },
  {
   "cell_type": "code",
   "execution_count": 7,
   "metadata": {},
   "outputs": [
    {
     "name": "stdout",
     "output_type": "stream",
     "text": [
      "249\n",
      "750\n"
     ]
    }
   ],
   "source": [
    "#operador In\n",
    "filter_in = db.laureates.count_documents({'diedCountry': {'$in': ['USA', 'Canada']}})\n",
    "print(filter_in)\n",
    "\n",
    "#operador Ne - not Equal\n",
    "filter_ne = db.laureates.count_documents({'diedCountry': {'$ne': 'USA'}})\n",
    "print(filter_ne)"
   ]
  }
 ],
 "metadata": {
  "kernelspec": {
   "display_name": "base",
   "language": "python",
   "name": "python3"
  },
  "language_info": {
   "codemirror_mode": {
    "name": "ipython",
    "version": 3
   },
   "file_extension": ".py",
   "mimetype": "text/x-python",
   "name": "python",
   "nbconvert_exporter": "python",
   "pygments_lexer": "ipython3",
   "version": "3.11.7"
  }
 },
 "nbformat": 4,
 "nbformat_minor": 2
}
