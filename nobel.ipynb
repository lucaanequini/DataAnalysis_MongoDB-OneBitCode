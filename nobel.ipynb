{
 "cells": [
  {
   "cell_type": "code",
   "execution_count": 2,
   "metadata": {},
   "outputs": [
    {
     "name": "stdout",
     "output_type": "stream",
     "text": [
      "670\n",
      "992\n"
     ]
    }
   ],
   "source": [
    "import requests\n",
    "from pymongo import MongoClient\n",
    "\n",
    "client = MongoClient()\n",
    "\n",
    "db = client['nobel']\n",
    "\n",
    "for collection_name in [\"prizes\", \"laureates\"]:\n",
    "    response = requests.get(\n",
    "    f\"http://api.nobelprize.org/v1/{collection_name[:-1]}.json\")\n",
    "    \n",
    "    documents = response.json()[collection_name]\n",
    "    db[collection_name].insert_many(documents)\n",
    "\n",
    "prizes = db[\"prizes\"]\n",
    "laureates = db[\"laureates\"]\n",
    "\n",
    "len_prizes = prizes.count_documents({})\n",
    "len_laureates = laureates.count_documents({})\n",
    "\n",
    "print(len_prizes)\n",
    "print(len_laureates)"
   ]
  }
 ],
 "metadata": {
  "kernelspec": {
   "display_name": "base",
   "language": "python",
   "name": "python3"
  },
  "language_info": {
   "codemirror_mode": {
    "name": "ipython",
    "version": 3
   },
   "file_extension": ".py",
   "mimetype": "text/x-python",
   "name": "python",
   "nbconvert_exporter": "python",
   "pygments_lexer": "ipython3",
   "version": "3.11.7"
  }
 },
 "nbformat": 4,
 "nbformat_minor": 2
}
