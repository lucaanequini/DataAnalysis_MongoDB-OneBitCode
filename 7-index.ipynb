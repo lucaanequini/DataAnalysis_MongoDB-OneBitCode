{
 "cells": [
  {
   "cell_type": "code",
   "execution_count": 35,
   "metadata": {},
   "outputs": [],
   "source": [
    "from pymongo import MongoClient\n",
    "import timeit\n",
    "\n",
    "client = MongoClient()\n",
    "db = client['nobel']\n",
    "\n",
    "prizes = db['prizes']\n",
    "laureates = db['laureates']"
   ]
  },
  {
   "cell_type": "code",
   "execution_count": 36,
   "metadata": {},
   "outputs": [],
   "source": [
    "#busca premios de 1910\n",
    "\n",
    "def get_prizes():\n",
    "    list(db.prizes.find({'year': '1910'}))\n",
    "\n",
    "#funcao para medir o tempo de execução\n",
    "def measure_execution_time(function):\n",
    "    execution_time = timeit.timeit(function, globals=globals(), number=1)*1000\n",
    "    print(f'Tempo de execução: {execution_time:.2f} milissegundos')\n"
   ]
  },
  {
   "cell_type": "code",
   "execution_count": 37,
   "metadata": {},
   "outputs": [
    {
     "name": "stdout",
     "output_type": "stream",
     "text": [
      "Tempo de execução: 4.11 milissegundos\n",
      "Tempo de execução: 1.08 milissegundos\n"
     ]
    }
   ],
   "source": [
    "#sem o indice\n",
    "measure_execution_time('get_prizes()')\n",
    "\n",
    "#com o indice\n",
    "db.prizes.create_index([('year', 1)])\n",
    "measure_execution_time('get_prizes()')"
   ]
  },
  {
   "cell_type": "code",
   "execution_count": 38,
   "metadata": {},
   "outputs": [
    {
     "name": "stdout",
     "output_type": "stream",
     "text": [
      "Tempo de execução: 4.54 milissegundos\n"
     ]
    }
   ],
   "source": [
    "#criando indice composto\n",
    "db.prizes.create_index([('category', 1), ('year', 1)])\n",
    "\n",
    "def get_all_prizes_economics():\n",
    "    list(db.prizes.find(\n",
    "        {'category': 'economics'},\n",
    "        {'year': 1, '_id': 0}\n",
    "    ))\n",
    "\n",
    "measure_execution_time('get_all_prizes_economics()')"
   ]
  }
 ],
 "metadata": {
  "kernelspec": {
   "display_name": "base",
   "language": "python",
   "name": "python3"
  },
  "language_info": {
   "codemirror_mode": {
    "name": "ipython",
    "version": 3
   },
   "file_extension": ".py",
   "mimetype": "text/x-python",
   "name": "python",
   "nbconvert_exporter": "python",
   "pygments_lexer": "ipython3",
   "version": "3.11.7"
  }
 },
 "nbformat": 4,
 "nbformat_minor": 2
}
