{
 "cells": [
  {
   "cell_type": "code",
   "execution_count": 12,
   "metadata": {},
   "outputs": [
    {
     "name": "stdout",
     "output_type": "stream",
     "text": [
      "{'_id': ObjectId('66895eb6b4527799d4afa1b6'), 'id': '290', 'firstname': 'Walter', 'surname': 'Kohn', 'born': '1923-03-09', 'died': '2016-04-19', 'bornCountry': 'Austria', 'bornCountryCode': 'AT', 'bornCity': 'Vienna', 'diedCountry': 'USA', 'diedCountryCode': 'US', 'diedCity': 'Santa Barbara, CA', 'gender': 'male', 'prizes': [{'year': '1998', 'category': 'chemistry', 'share': '2', 'motivation': '\"for his development of the density-functional theory\"', 'affiliations': [{'name': 'University of California', 'city': 'Santa Barbara, CA', 'country': 'USA'}]}]}\n"
     ]
    }
   ],
   "source": [
    "from pymongo import MongoClient\n",
    "\n",
    "client = MongoClient()\n",
    "db = client['nobel']\n",
    "\n",
    "prizes = db['prizes']\n",
    "laureates = db['laureates']\n",
    "\n",
    "walter = db.laureates.find_one({'firstname': 'Walter', 'surname': 'Kohn'})\n",
    "print(walter)"
   ]
  },
  {
   "cell_type": "code",
   "execution_count": 10,
   "metadata": {},
   "outputs": [
    {
     "name": "stdout",
     "output_type": "stream",
     "text": [
      "39\n",
      "7\n"
     ]
    }
   ],
   "source": [
    "california = db.laureates.count_documents({\n",
    "    'prizes.affiliations.name': 'University of California'\n",
    "})\n",
    "print(california)\n",
    "\n",
    "san_francisco = db.laureates.count_documents({\n",
    "    'prizes.affiliations.city': 'San Francisco, CA'\n",
    "})\n",
    "print(san_francisco)\n"
   ]
  },
  {
   "cell_type": "code",
   "execution_count": 11,
   "metadata": {},
   "outputs": [
    {
     "name": "stdout",
     "output_type": "stream",
     "text": [
      "28\n"
     ]
    }
   ],
   "source": [
    "#conta documentos que não possua uma informação\n",
    "no_country = db.laureates.count_documents({\n",
    "    'bornCountry': {\n",
    "        '$exists': False\n",
    "    }\n",
    "})\n",
    "print(no_country)"
   ]
  },
  {
   "cell_type": "code",
   "execution_count": 14,
   "metadata": {},
   "outputs": [
    {
     "name": "stdout",
     "output_type": "stream",
     "text": [
      "992\n",
      "992\n"
     ]
    }
   ],
   "source": [
    "#verificando se os laureados possuem premios\n",
    "qtd = db.laureates.count_documents({})\n",
    "print(qtd)\n",
    "\n",
    "qtd_prizes = db.laureates.count_documents({\n",
    "    'prizes': {\n",
    "        '$exists': True\n",
    "    }\n",
    "})\n",
    "print(qtd_prizes)"
   ]
  },
  {
   "cell_type": "code",
   "execution_count": 17,
   "metadata": {},
   "outputs": [
    {
     "name": "stdout",
     "output_type": "stream",
     "text": [
      "992\n"
     ]
    }
   ],
   "source": [
    "#verificação se o prize está preenchido\n",
    "prize_contain = db.laureates.count_documents({\n",
    "    'prizes.0': {\n",
    "        '$exists': True\n",
    "    }\n",
    "})\n",
    "\n",
    "print(prize_contain)"
   ]
  },
  {
   "cell_type": "code",
   "execution_count": 19,
   "metadata": {},
   "outputs": [
    {
     "name": "stdout",
     "output_type": "stream",
     "text": [
      "7\n"
     ]
    }
   ],
   "source": [
    "#verificação dos laureados que possuem mais de um premio\n",
    "prizes_mult = db.laureates.count_documents({\n",
    "    'prizes.1': {\n",
    "        '$exists': True\n",
    "    }\n",
    "})\n",
    "print(prizes_mult)"
   ]
  }
 ],
 "metadata": {
  "kernelspec": {
   "display_name": "base",
   "language": "python",
   "name": "python3"
  },
  "language_info": {
   "codemirror_mode": {
    "name": "ipython",
    "version": 3
   },
   "file_extension": ".py",
   "mimetype": "text/x-python",
   "name": "python",
   "nbconvert_exporter": "python",
   "pygments_lexer": "ipython3",
   "version": "3.11.7"
  }
 },
 "nbformat": 4,
 "nbformat_minor": 2
}
