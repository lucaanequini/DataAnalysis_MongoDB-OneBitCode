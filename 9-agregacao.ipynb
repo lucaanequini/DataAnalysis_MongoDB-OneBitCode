{
 "cells": [
  {
   "cell_type": "code",
   "execution_count": 1,
   "metadata": {},
   "outputs": [],
   "source": [
    "from pymongo import MongoClient\n",
    "import timeit\n",
    "\n",
    "client = MongoClient()\n",
    "db = client['nobel']\n",
    "\n",
    "prizes = db['prizes']\n",
    "laureates = db['laureates']"
   ]
  },
  {
   "cell_type": "code",
   "execution_count": 2,
   "metadata": {},
   "outputs": [
    {
     "name": "stdout",
     "output_type": "stream",
     "text": [
      "[{'year': '1923'}]\n",
      "[{'year': '1927'}]\n",
      "[{'year': '1936'}]\n"
     ]
    }
   ],
   "source": [
    "cursor = db.laureates.find(\n",
    "    filter={'bornCountry': 'USA'},\n",
    "    projection={'prizes.year': 1},\n",
    "    limit=3\n",
    ")\n",
    "\n",
    "for doc in cursor:\n",
    "    print(doc['prizes'])"
   ]
  },
  {
   "cell_type": "code",
   "execution_count": 3,
   "metadata": {},
   "outputs": [
    {
     "name": "stdout",
     "output_type": "stream",
     "text": [
      "[{'year': '1923'}]\n",
      "[{'year': '1927'}]\n",
      "[{'year': '1936'}]\n"
     ]
    }
   ],
   "source": [
    "#refatorando com agragações\n",
    "cursor =db.laureates.aggregate([\n",
    "    {'$match': {'bornCountry': 'USA'}},\n",
    "    {'$project': {'prizes.year': 1}},\n",
    "    {'$limit': 3}\n",
    "])\n",
    "\n",
    "for doc in cursor:\n",
    "    print(doc['prizes'])"
   ]
  },
  {
   "cell_type": "code",
   "execution_count": 5,
   "metadata": {},
   "outputs": [
    {
     "name": "stdout",
     "output_type": "stream",
     "text": [
      "[{'prizes': [{'year': '1912'}]}, {'prizes': [{'year': '1914'}]}]\n"
     ]
    }
   ],
   "source": [
    "#adicionando novas etapas\n",
    "from collections import OrderedDict\n",
    "\n",
    "print(list(db.laureates.aggregate([\n",
    "    {'$match': {'bornCountry': 'USA'}},\n",
    "    {'$project': {'prizes.year': 1, '_id': 0}},\n",
    "    {'$sort': OrderedDict([('prizes.year', 1)])},\n",
    "    {'$limit': 3},\n",
    "    {'$skip': 1}\n",
    "])))"
   ]
  },
  {
   "cell_type": "code",
   "execution_count": null,
   "metadata": {},
   "outputs": [],
   "source": [
    "#quantos laureados nascidos nos EUA\n",
    "print(list(db.laureates.aggregate([\n",
    "    {'$match': {'bornCountry': 'USA'}},\n",
    "    {'$count': 'qtd_born_usa'}\n",
    "])))"
   ]
  }
 ],
 "metadata": {
  "kernelspec": {
   "display_name": "base",
   "language": "python",
   "name": "python3"
  },
  "language_info": {
   "codemirror_mode": {
    "name": "ipython",
    "version": 3
   },
   "file_extension": ".py",
   "mimetype": "text/x-python",
   "name": "python",
   "nbconvert_exporter": "python",
   "pygments_lexer": "ipython3",
   "version": "3.11.7"
  }
 },
 "nbformat": 4,
 "nbformat_minor": 2
}
