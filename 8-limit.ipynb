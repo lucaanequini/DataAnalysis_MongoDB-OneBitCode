{
 "cells": [
  {
   "cell_type": "code",
   "execution_count": 1,
   "metadata": {},
   "outputs": [],
   "source": [
    "from pymongo import MongoClient\n",
    "import timeit\n",
    "\n",
    "client = MongoClient()\n",
    "db = client['nobel']\n",
    "\n",
    "prizes = db['prizes']\n",
    "laureates = db['laureates']"
   ]
  },
  {
   "cell_type": "code",
   "execution_count": 2,
   "metadata": {},
   "outputs": [
    {
     "name": "stdout",
     "output_type": "stream",
     "text": [
      "2023 chemistry\n",
      "2023 physics\n",
      "2022 chemistry\n",
      "2022 economics\n",
      "2022 peace\n",
      "2022 physics\n",
      "2020 medicine\n",
      "2019 chemistry\n",
      "2019 economics\n",
      "2019 medicine\n",
      "2017 chemistry\n",
      "2017 medicine\n",
      "2016 chemistry\n",
      "2015 chemistry\n",
      "2014 chemistry\n",
      "2014 physics\n",
      "2013 chemistry\n",
      "2013 economics\n",
      "2013 medicine\n",
      "2011 peace\n",
      "2010 chemistry\n",
      "2010 economics\n",
      "2009 chemistry\n",
      "2009 medicine\n",
      "2008 chemistry\n",
      "2007 economics\n",
      "2007 medicine\n",
      "2005 chemistry\n",
      "2004 chemistry\n",
      "2004 physics\n",
      "2003 physics\n",
      "2002 medicine\n",
      "2001 economics\n",
      "2001 physics\n",
      "2001 medicine\n",
      "2000 chemistry\n",
      "2000 medicine\n",
      "1998 physics\n",
      "1998 medicine\n",
      "1997 physics\n",
      "1996 chemistry\n",
      "1996 physics\n",
      "1995 chemistry\n",
      "1995 medicine\n",
      "1994 economics\n",
      "1994 peace\n",
      "1990 economics\n",
      "1990 physics\n",
      "1988 chemistry\n",
      "1988 physics\n",
      "1988 medicine\n",
      "1987 chemistry\n",
      "1986 chemistry\n",
      "1984 medicine\n",
      "1982 medicine\n",
      "1980 medicine\n",
      "1979 physics\n",
      "1978 medicine\n",
      "1977 physics\n",
      "1975 physics\n",
      "1975 medicine\n",
      "1974 medicine\n",
      "1973 medicine\n",
      "1972 physics\n",
      "1970 medicine\n",
      "1969 medicine\n",
      "1968 medicine\n",
      "1967 medicine\n",
      "1965 physics\n",
      "1965 medicine\n",
      "1963 medicine\n",
      "1962 medicine\n",
      "1958 physics\n",
      "1956 physics\n",
      "1956 medicine\n",
      "1954 medicine\n",
      "1950 medicine\n",
      "1945 medicine\n",
      "1934 medicine\n",
      "\n",
      "\n"
     ]
    }
   ],
   "source": [
    "#todos os premios compartilhados entre 3 pessoas\n",
    "for doc in db.prizes.find({\n",
    "    'laureates.share': '3'\n",
    "}):\n",
    "    print('{year} {category}'.format(**doc))"
   ]
  },
  {
   "cell_type": "code",
   "execution_count": 3,
   "metadata": {},
   "outputs": [
    {
     "name": "stdout",
     "output_type": "stream",
     "text": [
      "2023 chemistry\n",
      "2023 physics\n",
      "2022 chemistry\n",
      "2022 economics\n",
      "2022 peace\n",
      "\n",
      "\n"
     ]
    }
   ],
   "source": [
    "#utilizando o limit\n",
    "for doc in db.prizes.find({\n",
    "    'laureates.share': '3'\n",
    "}, limit=5):\n",
    "    print('{year} {category}'.format(**doc))"
   ]
  },
  {
   "cell_type": "code",
   "execution_count": 5,
   "metadata": {},
   "outputs": [
    {
     "name": "stdout",
     "output_type": "stream",
     "text": [
      "2022 physics\n",
      "2020 medicine\n",
      "2019 chemistry\n",
      "2019 economics\n",
      "2019 medicine\n"
     ]
    }
   ],
   "source": [
    "#utilizando skip\n",
    "for doc in db.prizes.find({\n",
    "    'laureates.share': '3'\n",
    "}, skip=5, limit=5):\n",
    "    print('{year} {category}'.format(**doc))"
   ]
  },
  {
   "cell_type": "code",
   "execution_count": 12,
   "metadata": {},
   "outputs": [
    {
     "name": "stdout",
     "output_type": "stream",
     "text": [
      "1954 medicine\n",
      "1956 physics\n",
      "1956 medicine\n"
     ]
    }
   ],
   "source": [
    "#refatorando e deixando de ordem ascendente\n",
    "for doc in db.prizes.find({'laureates.share': '3'}) \\\n",
    "    .sort([('year', 1)]) \\\n",
    "    .skip(3) \\\n",
    "    .limit(3):\n",
    "        print('{year} {category}'.format(**doc))"
   ]
  }
 ],
 "metadata": {
  "kernelspec": {
   "display_name": "base",
   "language": "python",
   "name": "python3"
  },
  "language_info": {
   "codemirror_mode": {
    "name": "ipython",
    "version": 3
   },
   "file_extension": ".py",
   "mimetype": "text/x-python",
   "name": "python",
   "nbconvert_exporter": "python",
   "pygments_lexer": "ipython3",
   "version": "3.11.7"
  }
 },
 "nbformat": 4,
 "nbformat_minor": 2
}
