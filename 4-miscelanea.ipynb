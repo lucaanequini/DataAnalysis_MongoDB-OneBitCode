{
 "cells": [
  {
   "cell_type": "code",
   "execution_count": 1,
   "metadata": {},
   "outputs": [],
   "source": [
    "from pymongo import MongoClient\n",
    "\n",
    "client = MongoClient()\n",
    "db = client['nobel']\n",
    "\n",
    "prizes = db['prizes']\n",
    "laureates = db['laureates']"
   ]
  },
  {
   "cell_type": "code",
   "execution_count": 4,
   "metadata": {},
   "outputs": [
    {
     "name": "stdout",
     "output_type": "stream",
     "text": [
      "0\n"
     ]
    }
   ],
   "source": [
    "#laureados que possuem premios em fisica compartilhados\n",
    "\n",
    "#errado\n",
    "print(db.laureates.count_documents({\n",
    "    'prizes': {\n",
    "        'category': 'physics',\n",
    "        'share': 1\n",
    "    }\n",
    "}))"
   ]
  },
  {
   "cell_type": "code",
   "execution_count": 6,
   "metadata": {},
   "outputs": [
    {
     "name": "stdout",
     "output_type": "stream",
     "text": [
      "47\n"
     ]
    }
   ],
   "source": [
    "#laureados que possuem premios em fisica compartilhados\n",
    "\n",
    "print(db.laureates.count_documents({\n",
    "    'prizes': {\n",
    "        '$elemMatch': {\n",
    "            'category': 'physics',\n",
    "            'share': '1'\n",
    "        }\n",
    "    }\n",
    "}))"
   ]
  },
  {
   "cell_type": "code",
   "execution_count": 7,
   "metadata": {},
   "outputs": [
    {
     "name": "stdout",
     "output_type": "stream",
     "text": [
      "29\n"
     ]
    }
   ],
   "source": [
    "#laureados que possuem premios em fisica compartilhados antes de 1945\n",
    "print(db.laureates.count_documents({\n",
    "    'prizes': {\n",
    "        '$elemMatch': {\n",
    "            'category': 'physics',\n",
    "            'share': '1',\n",
    "            'year': {'$lt': '1945'} #lt menor que; gt maior que\n",
    "        }\n",
    "    }\n",
    "}))"
   ]
  },
  {
   "cell_type": "code",
   "execution_count": 8,
   "metadata": {},
   "outputs": [
    {
     "name": "stdout",
     "output_type": "stream",
     "text": [
      "['Austria-Hungary (now Poland)', 'Free City of Danzig (now Poland)', 'German-occupied Poland (now Poland)', 'Germany (now Poland)', 'Poland', 'Poland (now Belarus)', 'Poland (now Lithuania)', 'Poland (now Ukraine)', 'Prussia (now Poland)', 'Russian Empire (now Poland)']\n"
     ]
    }
   ],
   "source": [
    "#utilizando regex\n",
    "#alguns laureados nasceram em lugares que se tornaram a polonia\n",
    "print(db.laureates.distinct(\n",
    "    'bornCountry',\n",
    "    {'bornCountry': {'$regex': 'Poland'}}\n",
    "))"
   ]
  },
  {
   "cell_type": "code",
   "execution_count": 9,
   "metadata": {},
   "outputs": [
    {
     "name": "stdout",
     "output_type": "stream",
     "text": [
      "['Austria-Hungary (now Poland)', 'Free City of Danzig (now Poland)', 'German-occupied Poland (now Poland)', 'Germany (now Poland)', 'Poland', 'Poland (now Belarus)', 'Poland (now Lithuania)', 'Poland (now Ukraine)', 'Prussia (now Poland)', 'Russian Empire (now Poland)']\n"
     ]
    }
   ],
   "source": [
    "#case insentive - poland\n",
    "print(db.laureates.distinct(\n",
    "    'bornCountry',\n",
    "    {'bornCountry': {'$regex': 'Poland', '$options': 'i'}}\n",
    "))"
   ]
  },
  {
   "cell_type": "code",
   "execution_count": 10,
   "metadata": {},
   "outputs": [
    {
     "name": "stdout",
     "output_type": "stream",
     "text": [
      "['Austria-Hungary (now Poland)', 'Free City of Danzig (now Poland)', 'German-occupied Poland (now Poland)', 'Germany (now Poland)', 'Poland', 'Poland (now Belarus)', 'Poland (now Lithuania)', 'Poland (now Ukraine)', 'Prussia (now Poland)', 'Russian Empire (now Poland)']\n"
     ]
    }
   ],
   "source": [
    "#utilizando a classe regex\n",
    "from bson.regex import Regex\n",
    "\n",
    "print(db.laureates.distinct(\n",
    "    'bornCountry',\n",
    "    {'bornCountry': Regex('Poland', 'i')}\n",
    "))"
   ]
  },
  {
   "cell_type": "code",
   "execution_count": 11,
   "metadata": {},
   "outputs": [
    {
     "name": "stdout",
     "output_type": "stream",
     "text": [
      "['Poland', 'Poland (now Belarus)', 'Poland (now Lithuania)', 'Poland (now Ukraine)']\n"
     ]
    }
   ],
   "source": [
    "#começa com \n",
    "print(db.laureates.distinct(\n",
    "    'bornCountry',\n",
    "    {'bornCountry': Regex('^Poland')}\n",
    "))"
   ]
  },
  {
   "cell_type": "code",
   "execution_count": 17,
   "metadata": {},
   "outputs": [
    {
     "name": "stdout",
     "output_type": "stream",
     "text": [
      "['Austria-Hungary (now Poland)', 'Free City of Danzig (now Poland)', 'German-occupied Poland (now Poland)', 'Germany (now Poland)', 'Prussia (now Poland)', 'Russian Empire (now Poland)']\n"
     ]
    }
   ],
   "source": [
    "#termina com\n",
    "print(db.laureates.distinct(\n",
    "    'bornCountry',\n",
    "    {'bornCountry': Regex('now Poland\\)$')}\n",
    "))"
   ]
  }
 ],
 "metadata": {
  "kernelspec": {
   "display_name": "base",
   "language": "python",
   "name": "python3"
  },
  "language_info": {
   "codemirror_mode": {
    "name": "ipython",
    "version": 3
   },
   "file_extension": ".py",
   "mimetype": "text/x-python",
   "name": "python",
   "nbconvert_exporter": "python",
   "pygments_lexer": "ipython3",
   "version": "3.11.7"
  }
 },
 "nbformat": 4,
 "nbformat_minor": 2
}
