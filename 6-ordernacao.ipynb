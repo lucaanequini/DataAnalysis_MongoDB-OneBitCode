{
 "cells": [
  {
   "cell_type": "code",
   "execution_count": 2,
   "metadata": {},
   "outputs": [],
   "source": [
    "from pymongo import MongoClient\n",
    "\n",
    "client = MongoClient()\n",
    "db = client['nobel']\n",
    "\n",
    "prizes = db['prizes']\n",
    "laureates = db['laureates']"
   ]
  },
  {
   "cell_type": "code",
   "execution_count": 4,
   "metadata": {},
   "outputs": [
    {
     "name": "stdout",
     "output_type": "stream",
     "text": [
      "['1901', '1902', '1903', '1904', '1905']\n"
     ]
    }
   ],
   "source": [
    "#ordenaçao ascendente\n",
    "cursor = db.prizes.find(\n",
    "    {'category': 'physics'},\n",
    "    ['year'],\n",
    "    sort=[('year', 1)]\n",
    ")\n",
    "print([doc['year'] for doc in cursor][:5])"
   ]
  },
  {
   "cell_type": "code",
   "execution_count": 5,
   "metadata": {},
   "outputs": [
    {
     "name": "stdout",
     "output_type": "stream",
     "text": [
      "['2023', '2022', '2021', '2020', '2019']\n"
     ]
    }
   ],
   "source": [
    "#ordenação descendente\n",
    "cursor_2 = db.prizes.find(\n",
    "    {'category': 'physics'},\n",
    "    ['year'],\n",
    "    sort=[('year', -1)]\n",
    ")\n",
    "print([doc['year'] for doc in cursor_2][:5])"
   ]
  },
  {
   "cell_type": "code",
   "execution_count": 10,
   "metadata": {},
   "outputs": [
    {
     "name": "stdout",
     "output_type": "stream",
     "text": [
      "1967 physics\n",
      "1967 peace\n",
      "1967 medicine\n",
      "1967 literature\n",
      "1967 chemistry\n",
      "1968 physics\n",
      "1968 peace\n",
      "1968 medicine\n",
      "1968 literature\n",
      "1968 chemistry\n",
      "1969 physics\n",
      "1969 peace\n",
      "1969 medicine\n",
      "1969 literature\n",
      "1969 economics\n",
      "1969 chemistry\n"
     ]
    }
   ],
   "source": [
    "#premios entre 1966 e 1970\n",
    "for doc in db.prizes.find(\n",
    "    {'year': {'$gt':'1966', '$lt':'1970'}},\n",
    "    ['category', 'year'],\n",
    "    sort = [('year', 1), ('category', -1)]\n",
    "    ):print('{year} {category}'.format(**doc))"
   ]
  }
 ],
 "metadata": {
  "kernelspec": {
   "display_name": "base",
   "language": "python",
   "name": "python3"
  },
  "language_info": {
   "codemirror_mode": {
    "name": "ipython",
    "version": 3
   },
   "file_extension": ".py",
   "mimetype": "text/x-python",
   "name": "python",
   "nbconvert_exporter": "python",
   "pygments_lexer": "ipython3",
   "version": "3.11.7"
  }
 },
 "nbformat": 4,
 "nbformat_minor": 2
}
