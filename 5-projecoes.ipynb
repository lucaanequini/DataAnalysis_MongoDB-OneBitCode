{
 "cells": [
  {
   "cell_type": "code",
   "execution_count": 1,
   "metadata": {},
   "outputs": [],
   "source": [
    "from pymongo import MongoClient\n",
    "\n",
    "client = MongoClient()\n",
    "db = client['nobel']\n",
    "\n",
    "prizes = db['prizes']\n",
    "laureates = db['laureates']"
   ]
  },
  {
   "cell_type": "code",
   "execution_count": 4,
   "metadata": {},
   "outputs": [
    {
     "name": "stdout",
     "output_type": "stream",
     "text": [
      "<pymongo.cursor.Cursor object at 0x000001EAC7D6FC50>\n",
      "[{'prizes': [{'affiliations': [{'name': 'Munich University', 'city': 'Munich', 'country': 'Germany'}]}]}, {'prizes': [{'affiliations': [{'name': 'Leiden University', 'city': 'Leiden', 'country': 'the Netherlands'}]}]}, {'prizes': [{'affiliations': [{'name': 'Amsterdam University', 'city': 'Amsterdam', 'country': 'the Netherlands'}]}]}]\n"
     ]
    }
   ],
   "source": [
    "#1 - valor incluso\n",
    "#0 - valor nao incluso\n",
    "\n",
    "docs = db.laureates.find(\n",
    "    filter = {},\n",
    "    projection = {\n",
    "        'prizes.affiliations': 1,\n",
    "        '_id': 0\n",
    "    }\n",
    ")\n",
    "print(docs)\n",
    "print(list(docs[:3]))"
   ]
  },
  {
   "cell_type": "code",
   "execution_count": 8,
   "metadata": {},
   "outputs": [
    {
     "name": "stdout",
     "output_type": "stream",
     "text": [
      "[{'_id': ObjectId('66895eb6b4527799d4afa267'), 'firstname': 'Institute of International Law'}, {'_id': ObjectId('66895eb6b4527799d4afa270'), 'firstname': 'Permanent International Peace Bureau'}, {'_id': ObjectId('66895eb6b4527799d4afa275'), 'firstname': 'International Committee of the Red Cross'}]\n"
     ]
    }
   ],
   "source": [
    "#projecao com campos ausentes\n",
    "\n",
    "docs_2 = db.laureates.find(\n",
    "    filter = {'gender': 'org'},\n",
    "    projection = ['bornCountry', 'firstname']\n",
    ")\n",
    "print(list(docs_2[:3]))"
   ]
  }
 ],
 "metadata": {
  "kernelspec": {
   "display_name": "base",
   "language": "python",
   "name": "python3"
  },
  "language_info": {
   "codemirror_mode": {
    "name": "ipython",
    "version": 3
   },
   "file_extension": ".py",
   "mimetype": "text/x-python",
   "name": "python",
   "nbconvert_exporter": "python",
   "pygments_lexer": "ipython3",
   "version": "3.11.7"
  }
 },
 "nbformat": 4,
 "nbformat_minor": 2
}
